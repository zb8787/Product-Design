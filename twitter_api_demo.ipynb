{
 "cells": [
  {
   "cell_type": "markdown",
   "metadata": {},
   "source": [
    "## Authenticate Tweepy"
   ]
  },
  {
   "cell_type": "code",
   "execution_count": 121,
   "metadata": {
    "colab": {
     "base_uri": "https://localhost:8080/",
     "height": 35
    },
    "colab_type": "code",
    "executionInfo": {
     "elapsed": 545,
     "status": "ok",
     "timestamp": 1600881940479,
     "user": {
      "displayName": "Z B",
      "photoUrl": "",
      "userId": "10503598081307423531"
     },
     "user_tz": 240
    },
    "id": "3Vx0hxFj7n-c",
    "outputId": "20607267-eaee-48e5-fc56-df1bcf1ee8f7"
   },
   "outputs": [
    {
     "name": "stdout",
     "output_type": "stream",
     "text": [
      "Authentication OK\n"
     ]
    }
   ],
   "source": [
    "import tweepy\n",
    "import pandas as pd\n",
    "\n",
    "#consumer_key = \"Enter the consumer_key\" API key\n",
    "consumer_key = \"put key here\"\n",
    "#consumer_secret = \"Enter the consumer_secret\" API key secret\n",
    "consumer_secret = \"put key here\"\n",
    "#access_key = \"Enter the access_key\" access token\n",
    "access_key = \"put key here\"\n",
    "#access_secret = \"Enter the access_secret\" access secret token\n",
    "access_secret = \"put key here\"\n",
    "\n",
    "# Authenticate and start tweepy\n",
    "auth = tweepy.OAuthHandler(consumer_key,consumer_secret)\n",
    "auth.set_access_token(access_key,access_secret)\n",
    "\n",
    "api = tweepy.API(auth)\n",
    "\n",
    "#Test the authentication\n",
    "def test_auth():\n",
    "  try:\n",
    "      api.verify_credentials()\n",
    "      print(\"Authentication OK\")\n",
    "  except:\n",
    "      print(\"Error during authentication\")\n",
    "\n",
    "test_auth()"
   ]
  },
  {
   "cell_type": "markdown",
   "metadata": {},
   "source": [
    "## Pull-methods"
   ]
  },
  {
   "cell_type": "code",
   "execution_count": 161,
   "metadata": {},
   "outputs": [],
   "source": [
    "#Get most recent tweets from a user\n",
    "def get_tweet(screen_name):\n",
    "    tweets = api.user_timeline(screen_name)\n",
    "    for tweet in tweets:\n",
    "        print(tweet.text)\n",
    "#get_tweet(\"jimcramer\")"
   ]
  },
  {
   "cell_type": "code",
   "execution_count": 172,
   "metadata": {},
   "outputs": [
    {
     "name": "stdout",
     "output_type": "stream",
     "text": [
      "                                                 text                   source\n",
      "0   RT @LightVibes: Let’s make this go VIRAL!!!! 🤣...       Twitter for iPhone\n",
      "1   RT @TheTeslaLife: Elon speaks of 250,000 #Tesl...      Twitter for Android\n",
      "2   🚨 Problem Reported - Flagstaff, AZ #Supercharg...  TezLab Supercharger Bot\n",
      "3   RT @GerberKawasaki: Guess what I got to check ...       Twitter for iPhone\n",
      "4   RT @LightVibes: Let’s make this go VIRAL!!!! 🤣...          Twitter Web App\n",
      "5   RT @anderscorr: #Ford, #Tesla, #Mercedes, and ...          Twitter Web App\n",
      "6   Tesla Cat’s reaction to Battery Day.   #TeslaC...                Instagram\n",
      "7   Elon speaks of 250,000 #Tesla #CyberTruck ‘s p...       Twitter for iPhone\n",
      "8   I will write a special report to celebrate my ...      Twitter for Android\n",
      "9   RT @MunroAssociates: Don’t miss #SandyMunro li...          Twitter Web App\n",
      "10  RT @ElectricRaph: She is taking her time 🐈 ......         Twitter for iPad\n",
      "11  RT @IASJ_org: The Human Rights Disclosure prop...          Twitter Web App\n",
      "12  Buying Tesla November 6th, 400 dollar puts for...       Twitter for iPhone\n",
      "13  “I don’t care that they stole my idea… I care ...          Twitter Web App\n",
      "14  RT @Techgnostik: The #MustangMachE will be mad...          Twitter Web App\n"
     ]
    }
   ],
   "source": [
    "#Search twitter for phrase (english specified)\n",
    "\n",
    "df = pd.DataFrame()\n",
    "msgs = []\n",
    "def search(phrase):\n",
    "    msg = []\n",
    "    msgs = []\n",
    "    for tweet in api.search(q=phrase,lang='en'):\n",
    "        msg = [tweet.text, tweet.source]\n",
    "        #print(msgs)\n",
    "        #msg = tuple(msg)\n",
    "        msgs.append(msg)\n",
    "    return msgs\n",
    "msgs = search('#tesla')\n",
    "df = pd.DataFrame(msgs)\n",
    "df.columns = ['text','source']\n",
    "print(df)"
   ]
  },
  {
   "cell_type": "code",
   "execution_count": 91,
   "metadata": {},
   "outputs": [
    {
     "name": "stdout",
     "output_type": "stream",
     "text": [
      "[{'name': 'Boston', 'placeType': {'code': 7, 'name': 'Town'}, 'url': 'http://where.yahooapis.com/v1/place/2367105', 'parentid': 23424977, 'country': 'United States', 'woeid': 2367105, 'countryCode': 'US'}]\n",
      "2367105\n"
     ]
    }
   ],
   "source": [
    "#Returns location that Twitter has trending topic info for, closest to the specified lat/long position\n",
    "def trends_closest(lat,long):\n",
    "    mat = api.trends_closest(lat,long)\n",
    "    return mat\n",
    "mat = trends_closest(42.3601,-71.0589)\n",
    "print(mat)\n",
    "print(mat[0]['woeid'])"
   ]
  },
  {
   "cell_type": "code",
   "execution_count": 77,
   "metadata": {},
   "outputs": [],
   "source": [
    "#Top 50 trending topics at a place based on WOEID\n",
    "def trends_place(woe_id):\n",
    "    mat = api.trends_place(woe_id)\n",
    "    return mat\n",
    "trends = trends_place(mat[0]['woeid'])\n",
    "#print(trends)"
   ]
  },
  {
   "cell_type": "code",
   "execution_count": 76,
   "metadata": {},
   "outputs": [],
   "source": [
    "#All trends available on twitter, returns array of woeid\n",
    "def trends_available():\n",
    "    api.trends_available()\n",
    "#print(trends_available())"
   ]
  },
  {
   "cell_type": "markdown",
   "metadata": {},
   "source": [
    "## Push-methods"
   ]
  },
  {
   "cell_type": "code",
   "execution_count": 173,
   "metadata": {
    "colab": {},
    "colab_type": "code",
    "id": "A4TK48rb__gt"
   },
   "outputs": [],
   "source": [
    "#Create a tweet\n",
    "def create_tweet(status):\n",
    "    api.update_status(status)\n",
    "create_tweet(\"I like stained glass windows.\")"
   ]
  }
 ],
 "metadata": {
  "colab": {
   "authorship_tag": "ABX9TyNRbrqAYhOt2NogIWsLRAEp",
   "collapsed_sections": [],
   "name": "Untitled0.ipynb",
   "provenance": []
  },
  "kernelspec": {
   "display_name": "Python 3",
   "language": "python",
   "name": "python3"
  },
  "language_info": {
   "codemirror_mode": {
    "name": "ipython",
    "version": 3
   },
   "file_extension": ".py",
   "mimetype": "text/x-python",
   "name": "python",
   "nbconvert_exporter": "python",
   "pygments_lexer": "ipython3",
   "version": "3.8.4"
  }
 },
 "nbformat": 4,
 "nbformat_minor": 1
}

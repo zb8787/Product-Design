{
 "cells": [
  {
   "cell_type": "markdown",
   "metadata": {},
   "source": [
    "## Authenticate Tweepy"
   ]
  },
  {
   "cell_type": "code",
   "execution_count": 7,
   "metadata": {
    "colab": {
     "base_uri": "https://localhost:8080/",
     "height": 35
    },
    "colab_type": "code",
    "executionInfo": {
     "elapsed": 545,
     "status": "ok",
     "timestamp": 1600881940479,
     "user": {
      "displayName": "Z B",
      "photoUrl": "",
      "userId": "10503598081307423531"
     },
     "user_tz": 240
    },
    "id": "3Vx0hxFj7n-c",
    "outputId": "20607267-eaee-48e5-fc56-df1bcf1ee8f7"
   },
   "outputs": [
    {
     "name": "stdout",
     "output_type": "stream",
     "text": [
      "Authentication OK\n"
     ]
    }
   ],
   "source": [
    "import tweepy\n",
    "import pandas as pd\n",
    "import numpy as np\n",
    "\n",
    "#consumer_key = \"Enter the consumer_key\" API key\n",
    "consumer_key = \"put key here\"\n",
    "#consumer_secret = \"Enter the consumer_secret\" API key secret\n",
    "consumer_secret = \"put key here\"\n",
    "#access_key = \"Enter the access_key\" access token\n",
    "access_key = \"put key here\"\n",
    "#access_secret = \"Enter the access_secret\" access secret token\n",
    "access_secret = \"put key here\"\n",
    "\n",
    "# Authenticate and start tweepy\n",
    "auth = tweepy.OAuthHandler(consumer_key,consumer_secret)\n",
    "auth.set_access_token(access_key,access_secret)\n",
    "\n",
    "api = tweepy.API(auth)\n",
    "\n",
    "#Test the authentication\n",
    "def test_auth():\n",
    "  try:\n",
    "      api.verify_credentials()\n",
    "      print(\"Authentication OK\")\n",
    "  except:\n",
    "      print(\"Error during authentication\")\n",
    "\n",
    "test_auth()"
   ]
  },
  {
   "cell_type": "markdown",
   "metadata": {},
   "source": [
    "## Pull-methods"
   ]
  },
  {
   "cell_type": "code",
   "execution_count": 5,
   "metadata": {},
   "outputs": [],
   "source": [
    "#Get most recent tweets from a user\n",
    "def get_tweet(screen_name):\n",
    "    tweets = api.user_timeline(screen_name)\n",
    "    for tweet in tweets:\n",
    "        print(tweet.text)\n",
    "#get_tweet(\"jimcramer\")"
   ]
  },
  {
   "cell_type": "code",
   "execution_count": 14,
   "metadata": {},
   "outputs": [
    {
     "name": "stdout",
     "output_type": "stream",
     "text": [
      "                                                 text               source\n",
      "0   OMG Elon’s Chest X-ray😳😳😳 ⁦@elonmusk⁩ ⁦@BoredE...   Twitter for iPhone\n",
      "1   RT @MarcusAlzona: Outside Walter Reed with @Da...   Twitter for iPhone\n",
      "2   RT @AlphaTraining1: Why is Chris Wallace impos...   Twitter for iPhone\n",
      "3   RT @gassin123Charts: $JMS $BYH $EMN #E25 \\n#Ma...      Twitter Web App\n",
      "4   RT @TeslaNY: Living with a Tesla Model 3 Perfo...   Twitter for iPhone\n",
      "5   Why is Chris Wallace imposing the #MarxistNarr...   Twitter for iPhone\n",
      "6   Tesla to sell zero cars in China by 2030, Morg...   Twitter for iPhone\n",
      "7   A Major #Tesla Investor Has Predicted #Bitcoin...      Twitter Web App\n",
      "8   It’s been quite a week! It’s a Girl! Welcome H...            Instagram\n",
      "9   RT @claudiohfox: #Tesla purchase a 10,000 acre...      Twitter Web App\n",
      "10  Dear Elon, \\nWould you please produce a Tesla ...   Twitter for iPhone\n",
      "11  It was definitely the right color! 😍 #model3 #...            Instagram\n",
      "12  Join us on @instagram at @hitanamotors !\\n\\n#p...  Twitter for Android\n",
      "13  RT @IheartTesla: What was the longest road tri...   Twitter for iPhone\n",
      "14  RT @PlugYourRide: 📣 New Podcast! \"Episode 192:...                     \n"
     ]
    }
   ],
   "source": [
    "#Search twitter for phrase (english specified)\n",
    "\n",
    "df = pd.DataFrame()\n",
    "msgs = []\n",
    "def search(phrase):\n",
    "    msg = []\n",
    "    msgs = []\n",
    "    for tweet in api.search(q=phrase,lang='en'):\n",
    "        msg = [tweet.text, tweet.source]\n",
    "        #print(msgs)\n",
    "        #msg = tuple(msg)\n",
    "        msgs.append(msg)\n",
    "    return msgs\n",
    "msgs = search('#tesla')\n",
    "df = pd.DataFrame(msgs)\n",
    "df.columns = ['text','source']\n",
    "print(df)"
   ]
  },
  {
   "cell_type": "code",
   "execution_count": 17,
   "metadata": {},
   "outputs": [],
   "source": [
    "np.savetxt(r'C:\\wPUT_DIRECTORY_HERE\\hashtag.txt',df.text, fmt='%s', encoding='utf-8')"
   ]
  },
  {
   "cell_type": "code",
   "execution_count": 91,
   "metadata": {},
   "outputs": [
    {
     "name": "stdout",
     "output_type": "stream",
     "text": [
      "[{'name': 'Boston', 'placeType': {'code': 7, 'name': 'Town'}, 'url': 'http://where.yahooapis.com/v1/place/2367105', 'parentid': 23424977, 'country': 'United States', 'woeid': 2367105, 'countryCode': 'US'}]\n",
      "2367105\n"
     ]
    }
   ],
   "source": [
    "#Returns location that Twitter has trending topic info for, closest to the specified lat/long position\n",
    "def trends_closest(lat,long):\n",
    "    mat = api.trends_closest(lat,long)\n",
    "    return mat\n",
    "mat = trends_closest(42.3601,-71.0589)\n",
    "print(mat)\n",
    "print(mat[0]['woeid'])"
   ]
  },
  {
   "cell_type": "code",
   "execution_count": 77,
   "metadata": {},
   "outputs": [],
   "source": [
    "#Top 50 trending topics at a place based on WOEID\n",
    "def trends_place(woe_id):\n",
    "    mat = api.trends_place(woe_id)\n",
    "    return mat\n",
    "trends = trends_place(mat[0]['woeid'])\n",
    "#print(trends)"
   ]
  },
  {
   "cell_type": "code",
   "execution_count": 76,
   "metadata": {},
   "outputs": [],
   "source": [
    "#All trends available on twitter, returns array of woeid\n",
    "def trends_available():\n",
    "    api.trends_available()\n",
    "#print(trends_available())"
   ]
  },
  {
   "cell_type": "markdown",
   "metadata": {},
   "source": [
    "## Push-methods"
   ]
  },
  {
   "cell_type": "code",
   "execution_count": 173,
   "metadata": {
    "colab": {},
    "colab_type": "code",
    "id": "A4TK48rb__gt"
   },
   "outputs": [],
   "source": [
    "#Create a tweet\n",
    "def create_tweet(status):\n",
    "    api.update_status(status)\n",
    "create_tweet(\"I like stained glass windows.\")"
   ]
  }
 ],
 "metadata": {
  "colab": {
   "authorship_tag": "ABX9TyNRbrqAYhOt2NogIWsLRAEp",
   "collapsed_sections": [],
   "name": "Untitled0.ipynb",
   "provenance": []
  },
  "kernelspec": {
   "display_name": "Python 3",
   "language": "python",
   "name": "python3"
  },
  "language_info": {
   "codemirror_mode": {
    "name": "ipython",
    "version": 3
   },
   "file_extension": ".py",
   "mimetype": "text/x-python",
   "name": "python",
   "nbconvert_exporter": "python",
   "pygments_lexer": "ipython3",
   "version": "3.8.4"
  }
 },
 "nbformat": 4,
 "nbformat_minor": 1
}
